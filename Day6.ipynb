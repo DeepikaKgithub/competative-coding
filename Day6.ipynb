{
 "cells": [
  {
   "cell_type": "code",
   "execution_count": 4,
   "id": "d75415ba",
   "metadata": {},
   "outputs": [],
   "source": [
    "#binary tree\n",
    "class binary:\n",
    "    class treeNode:\n",
    "        def __init__ (self,data):\n",
    "            self.data=data\n",
    "            self.left=None\n",
    "            self.right=None\n",
    "    def __init__(self):\n",
    "        self.root=None\n",
    "    def nNt(self,data):\n",
    "        new_node=binary.treeNode(data)\n",
    "        if self.root is None:\n",
    "            self.root=new_node\n",
    "            return\n",
    "        current=self.root\n",
    "        while True:\n",
    "            if data<current.data:\n",
    "                if current.left is None:\n",
    "                    current.left=new_node\n",
    "                    break\n",
    "                else:\n",
    "                    current=current.left\n",
    "            else:\n",
    "                if current.right is None:\n",
    "                    current.right=new_node \n",
    "                    break\n",
    "                else:\n",
    "                    current=current.right\n",
    "        \n",
    "    def inOrder(self,node):\n",
    "        if node:\n",
    "            self.inOrder(node.left)\n",
    "            print(node.data,end=' ')\n",
    "            self.inOrder(node.right)\n",
    "    def preOrder(self,node):\n",
    "        if node:\n",
    "            print(node.data,end=' ')\n",
    "            self.preOrder(node.left)\n",
    "            self.preOrder(node.right)\n",
    "    def postOrder(self,node):\n",
    "        if node:\n",
    "            self.postOrder(node.left)\n",
    "            self.postOrder(node.right)\n",
    "            print(node.data,end=' ')\n",
    "    def search(self,key):\n",
    "        current=self.root\n",
    "        while current:\n",
    "            if key==current.data:\n",
    "                return True\n",
    "                break\n",
    "            elif key<current.data:\n",
    "                current=current.left\n",
    "            else:\n",
    "                 current=current.right\n",
    "        return False"
   ]
  },
  {
   "cell_type": "code",
   "execution_count": 5,
   "id": "3a04a80c",
   "metadata": {},
   "outputs": [],
   "source": [
    "t=binary()\n",
    "t.nNt(90)\n",
    "t.nNt(78)\n",
    "t.nNt(91)\n",
    "t.nNt(29)\n",
    "t.nNt(79)\n",
    "t.nNt(94)\n",
    "t.nNt(99)"
   ]
  },
  {
   "cell_type": "code",
   "execution_count": 7,
   "id": "c0251b6e",
   "metadata": {},
   "outputs": [
    {
     "data": {
      "text/plain": [
       "True"
      ]
     },
     "execution_count": 7,
     "metadata": {},
     "output_type": "execute_result"
    }
   ],
   "source": [
    "t.search(90)"
   ]
  },
  {
   "cell_type": "code",
   "execution_count": 19,
   "id": "eb4b6d81",
   "metadata": {},
   "outputs": [],
   "source": [
    "#print the least value in stack\n",
    "class MinStack:\n",
    "\n",
    "    def __init__(self):\n",
    "        self.stack = []\n",
    "        self.minStack = []\n",
    "\n",
    "    def push(self, val):\n",
    "        self.stack.append(val)\n",
    "        if len(self.minStack)==0 or val <=self.minStack[-1]:\n",
    "            self.minStack.append(val)\n",
    "    def pop(self):\n",
    "        popped=self.stack.pop()\n",
    "        if popped==self.minStack[-1]:\n",
    "            self.minStack.pop()\n",
    "    def top(self):\n",
    "        return self.stack[-1]\n",
    "\n",
    "    def getMin(self):\n",
    "        return self.minStack[-1]"
   ]
  },
  {
   "cell_type": "code",
   "execution_count": 22,
   "id": "3bac626a",
   "metadata": {},
   "outputs": [
    {
     "data": {
      "text/plain": [
       "7"
      ]
     },
     "execution_count": 22,
     "metadata": {},
     "output_type": "execute_result"
    }
   ],
   "source": [
    "g=MinStack()\n",
    "g.push(56)\n",
    "g.push(74)\n",
    "g.push(9)\n",
    "g.push(7)\n",
    "g.getMin()"
   ]
  },
  {
   "cell_type": "code",
   "execution_count": 31,
   "id": "8ddcd2e1",
   "metadata": {},
   "outputs": [],
   "source": [
    " def removeElement(nums, val):\n",
    "        i = 0\n",
    "        for j in range(len(nums)):\n",
    "            if nums[j] != val:\n",
    "                nums[i] = nums[j]\n",
    "                i += 1\n",
    "        return i\n"
   ]
  },
  {
   "cell_type": "code",
   "execution_count": 32,
   "id": "1d46fc18",
   "metadata": {},
   "outputs": [
    {
     "data": {
      "text/plain": [
       "2"
      ]
     },
     "execution_count": 32,
     "metadata": {},
     "output_type": "execute_result"
    }
   ],
   "source": [
    "removeElement([3,2,2,3],3)"
   ]
  },
  {
   "cell_type": "code",
   "execution_count": null,
   "id": "1aae68ad",
   "metadata": {},
   "outputs": [],
   "source": []
  },
  {
   "cell_type": "code",
   "execution_count": null,
   "id": "9aca895d",
   "metadata": {},
   "outputs": [],
   "source": []
  },
  {
   "cell_type": "code",
   "execution_count": null,
   "id": "c35ae801",
   "metadata": {},
   "outputs": [],
   "source": []
  }
 ],
 "metadata": {
  "kernelspec": {
   "display_name": "Python 3 (ipykernel)",
   "language": "python",
   "name": "python3"
  },
  "language_info": {
   "codemirror_mode": {
    "name": "ipython",
    "version": 3
   },
   "file_extension": ".py",
   "mimetype": "text/x-python",
   "name": "python",
   "nbconvert_exporter": "python",
   "pygments_lexer": "ipython3",
   "version": "3.11.5"
  }
 },
 "nbformat": 4,
 "nbformat_minor": 5
}

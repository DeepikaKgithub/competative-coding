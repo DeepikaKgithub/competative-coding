{
 "cells": [
  {
   "cell_type": "code",
   "execution_count": 1,
   "id": "6293139f-cd33-4cdb-a1c1-d74d61ac4a0a",
   "metadata": {},
   "outputs": [],
   "source": [
    "#list intersection\n",
    "def inter(list1,list2):\n",
    "    list3=list1 & list2\n",
    "    return list(list3)\n",
    "    "
   ]
  },
  {
   "cell_type": "code",
   "execution_count": 2,
   "id": "80b61143-e3d9-41f4-885b-d4b4e15a7ab7",
   "metadata": {},
   "outputs": [
    {
     "data": {
      "text/plain": [
       "[2, 3]"
      ]
     },
     "execution_count": 2,
     "metadata": {},
     "output_type": "execute_result"
    }
   ],
   "source": [
    "inter({1,2,2,3,4},{2,3,5,6,6})"
   ]
  },
  {
   "cell_type": "code",
   "execution_count": 3,
   "id": "3b963b10-79ab-4026-8e9d-ae577d4eeaac",
   "metadata": {},
   "outputs": [],
   "source": [
    "# rat count house\n",
    "def house(r,units,arr):\n",
    "    result=0\n",
    "    n=r*units\n",
    "    if len(arr)==0:\n",
    "        return 0\n",
    "    for i in range(len(arr)):\n",
    "       result+=arr[i]\n",
    "       if result>=n:\n",
    "           return i+1\n",
    "    return -1\n",
    "r=8\n",
    "units=2\n",
    "arr=[2,8,3,7,4,1]\n",
    "        "
   ]
  },
  {
   "cell_type": "code",
   "execution_count": 4,
   "id": "d295b8b9-b917-4f04-8514-bb1cc228dec9",
   "metadata": {},
   "outputs": [
    {
     "data": {
      "text/plain": [
       "4"
      ]
     },
     "execution_count": 4,
     "metadata": {},
     "output_type": "execute_result"
    }
   ],
   "source": [
    "house(r,units,arr)"
   ]
  },
  {
   "cell_type": "code",
   "execution_count": 5,
   "id": "772a0fed-0229-4c2a-80de-70ce81c261ce",
   "metadata": {},
   "outputs": [],
   "source": [
    "#factors\n",
    "def factors(num):\n",
    "    result=[]\n",
    "    if num<=0:\n",
    "            return 0\n",
    "    for i in range(1,num+1):\n",
    "       \n",
    "        if num%i==0:\n",
    "            result.append(i)\n",
    "    return result"
   ]
  },
  {
   "cell_type": "code",
   "execution_count": 6,
   "id": "cabba159-4df6-4ded-9cb7-71f4d3e6c019",
   "metadata": {},
   "outputs": [
    {
     "data": {
      "text/plain": [
       "[1, 2, 3, 4, 6, 12]"
      ]
     },
     "execution_count": 6,
     "metadata": {},
     "output_type": "execute_result"
    }
   ],
   "source": [
    "factors(12)"
   ]
  },
  {
   "cell_type": "code",
   "execution_count": 7,
   "id": "acf26621-2117-4e55-b156-208cefd85c18",
   "metadata": {},
   "outputs": [],
   "source": [
    "#list compression\n",
    "def factors(num):\n",
    "    if num<=0:\n",
    "        return 0\n",
    "    mylist=[i for i in range(1,num+1) if num%i==0]\n",
    "    return mylist"
   ]
  },
  {
   "cell_type": "code",
   "execution_count": 8,
   "id": "9a173f72-c09f-4ca4-a7c8-a00c2e0241f3",
   "metadata": {},
   "outputs": [
    {
     "data": {
      "text/plain": [
       "[1, 2, 3, 4, 6, 12]"
      ]
     },
     "execution_count": 8,
     "metadata": {},
     "output_type": "execute_result"
    }
   ],
   "source": [
    "factors(12)"
   ]
  },
  {
   "cell_type": "code",
   "execution_count": 9,
   "id": "379399d8-c555-42a9-813d-73531f38e831",
   "metadata": {},
   "outputs": [],
   "source": [
    "def reverse(arr):\n",
    "    l=arr[::-1]\n",
    "    return l"
   ]
  },
  {
   "cell_type": "code",
   "execution_count": 10,
   "id": "dc4068a4-63e2-4f9e-a830-f2e328157ca3",
   "metadata": {},
   "outputs": [
    {
     "data": {
      "text/plain": [
       "'llik'"
      ]
     },
     "execution_count": 10,
     "metadata": {},
     "output_type": "execute_result"
    }
   ],
   "source": [
    "reverse(\"kill\")"
   ]
  },
  {
   "cell_type": "code",
   "execution_count": 11,
   "id": "b2d9827c-4d7b-43d4-9127-d78b9e1ed2c3",
   "metadata": {},
   "outputs": [],
   "source": [
    "#reverse the string\n",
    "class mst:\n",
    "    def __init__ (self):\n",
    "        self.stack=[]\n",
    "    def rev(self,mstr):\n",
    "        result=\" \"\n",
    "        for i in mstr:\n",
    "            self.stack.append(i)\n",
    "        for i in range(len(self.stack)):\n",
    "            popped=self.stack.pop()\n",
    "            result=result+popped\n",
    "        return result\n",
    "        "
   ]
  },
  {
   "cell_type": "code",
   "execution_count": 12,
   "id": "e5e424af-f618-4230-ad18-bfd55d6dd1e7",
   "metadata": {},
   "outputs": [
    {
     "data": {
      "text/plain": [
       "' llik'"
      ]
     },
     "execution_count": 12,
     "metadata": {},
     "output_type": "execute_result"
    }
   ],
   "source": [
    "k=mst()\n",
    "k.rev(\"kill\")"
   ]
  },
  {
   "cell_type": "code",
   "execution_count": 13,
   "id": "0df78439-b640-4ccf-bec6-bd8c075f1263",
   "metadata": {},
   "outputs": [],
   "source": [
    "#find missing number\n",
    "def findd(arr):\n",
    "    for i in range(1,len(arr)+1):\n",
    "        if i not in arr:\n",
    "            return i*\"*\"\n",
    "        \n",
    "        "
   ]
  },
  {
   "cell_type": "code",
   "execution_count": 14,
   "id": "eaea6b13-3b02-4f4b-a421-d9c1cec72430",
   "metadata": {},
   "outputs": [
    {
     "data": {
      "text/plain": [
       "'****'"
      ]
     },
     "execution_count": 14,
     "metadata": {},
     "output_type": "execute_result"
    }
   ],
   "source": [
    "findd([1,2,3,5,6,8])"
   ]
  },
  {
   "cell_type": "code",
   "execution_count": 15,
   "id": "f706adf0-8441-4cad-a21e-0f9fd4f1a819",
   "metadata": {},
   "outputs": [
    {
     "name": "stdout",
     "output_type": "stream",
     "text": [
      "1\n"
     ]
    }
   ],
   "source": [
    "mystr=\"A\"\n",
    "print(ord(mystr)-64)"
   ]
  },
  {
   "cell_type": "code",
   "execution_count": 16,
   "id": "ae724662-299a-4cb3-a8c2-a561ff1f8a6a",
   "metadata": {},
   "outputs": [],
   "source": [
    "#excel sheet column number\n",
    "def col(name):\n",
    "    result=0\n",
    "    for i in name:\n",
    "        result=result*26+ord(i)-64\n",
    "    return result"
   ]
  },
  {
   "cell_type": "code",
   "execution_count": 17,
   "id": "f0f5c972-e081-44d8-a78d-56274f90c98c",
   "metadata": {},
   "outputs": [
    {
     "data": {
      "text/plain": [
       "703"
      ]
     },
     "execution_count": 17,
     "metadata": {},
     "output_type": "execute_result"
    }
   ],
   "source": [
    "col(\"AAA\")"
   ]
  },
  {
   "cell_type": "code",
   "execution_count": 18,
   "id": "11218b83-d313-4339-a8a2-ca0b61856d47",
   "metadata": {},
   "outputs": [],
   "source": [
    "# atm discription\n",
    "def ATM():\n",
    "    print(\"welcome to atm\")\n",
    "    pins={\"shahi\":\"2344\",\"dwani\":\"5645\"}\n",
    "    bal={\"shahi\":34556,\"dwani\":56443}\n",
    "    name=input(\"enter name\")\n",
    "    pin=input(\"enter pin\")\n",
    "    if pins[name]!=pin:\n",
    "        return \"invalid pin\"\n",
    "    while True:\n",
    "        option=\"1.withdrawal\\n\"+\"2.deposit\\n\"+\"3.balance\\n\"+\"4.offers\\n\"+\"5.change pin\\n\"+\"6.break\"\n",
    "        print(option)\n",
    "        option=int(input(\"enter the option\"))\n",
    "        if option==1:\n",
    "            amt=int(input(\"enter amount to withdraw\"))\n",
    "            withdrawal=bal[name]-amt\n",
    "            return withdrawal  \n",
    "        elif option==2:\n",
    "            amt=int(input(\"enter the amount to deposit\"))\n",
    "            deposit=bal[name]+amt\n",
    "            return deposit\n",
    "        elif option==3:\n",
    "            return bal[name]\n",
    "        elif option==4:\n",
    "            print(\"FD rates are high \")\n",
    "        elif option==5:\n",
    "            newpin=input(\"enter pin\")\n",
    "            pins[name]=newpin\n",
    "            print(\"pin updated\")\n",
    "        elif option==6:\n",
    "            print(\"exit\")\n",
    "            break\n",
    "        else:\n",
    "            print(\"invalid\")"
   ]
  },
  {
   "cell_type": "code",
   "execution_count": 19,
   "id": "656e6c51-88ba-4cd2-8a84-fe2c60cf6be0",
   "metadata": {},
   "outputs": [
    {
     "name": "stdout",
     "output_type": "stream",
     "text": [
      "welcome to atm\n"
     ]
    },
    {
     "name": "stdin",
     "output_type": "stream",
     "text": [
      "enter name shahi\n",
      "enter pin 2344\n"
     ]
    },
    {
     "name": "stdout",
     "output_type": "stream",
     "text": [
      "1.withdrawal\n",
      "2.deposit\n",
      "3.balance\n",
      "4.offers\n",
      "5.change pin\n",
      "6.break\n"
     ]
    },
    {
     "name": "stdin",
     "output_type": "stream",
     "text": [
      "enter the option 1\n",
      "enter amount to withdraw 3444\n"
     ]
    },
    {
     "data": {
      "text/plain": [
       "31112"
      ]
     },
     "execution_count": 19,
     "metadata": {},
     "output_type": "execute_result"
    }
   ],
   "source": [
    "ATM()"
   ]
  },
  {
   "cell_type": "code",
   "execution_count": 58,
   "id": "dde0ca46-e6e3-4968-816a-b3f572e5243d",
   "metadata": {},
   "outputs": [],
   "source": [
    "class linkedlist:\n",
    "    class Node:\n",
    "        def __init__ (self,data):     #creating a node\n",
    "            self.data=data            \n",
    "            self.next=None\n",
    "    def __init__ (self):\n",
    "        self.head=None #where no data is precent so it is null\n",
    "    def insertbegg(self,data):\n",
    "        newnode=linkedlist.Node(data)#creating a newnode \n",
    "        newnode.next=self.head \n",
    "        self.head=newnode\n",
    "    def traverse(self,current):\n",
    "        current=self.head\n",
    "        while current:\n",
    "            print(current.data,end=\"-->\")\n",
    "            current=current.next\n",
    "        print(None)\n",
    "        ###NEXT DAY\n",
    "    def nodefromrev(self,n): #n=3\n",
    "        count=0\n",
    "        current=self.head\n",
    "        while current:\n",
    "            count=count+1\n",
    "            current=current.next\n",
    "        if count==n: \n",
    "            return self.head.next\n",
    "        #finding before node\n",
    "        ptr1=self.head\n",
    "        for _ in range(count-n-1):\n",
    "            ptr1=ptr1.next\n",
    "        ptr1.next=ptr1.next.next\n",
    "        return self.head"
   ]
  },
  {
   "cell_type": "code",
   "execution_count": 59,
   "id": "002fcf61-4ea3-46d3-9e26-fe8eea2e87c3",
   "metadata": {},
   "outputs": [
    {
     "data": {
      "text/plain": [
       "<__main__.linkedlist.Node at 0x23e0162a480>"
      ]
     },
     "execution_count": 59,
     "metadata": {},
     "output_type": "execute_result"
    }
   ],
   "source": [
    "ll=linkedlist()\n",
    "ll.insertbegg(56)\n",
    "ll.insertbegg(67)\n",
    "ll.insertbegg(58)\n",
    "ll.insertbegg(66)\n",
    "ll.insertbegg(34)\n",
    "ll.nodefromrev(3)"
   ]
  },
  {
   "cell_type": "code",
   "execution_count": 60,
   "id": "b2989b2f-c3b6-4b74-939a-802ebe41858e",
   "metadata": {},
   "outputs": [
    {
     "name": "stdout",
     "output_type": "stream",
     "text": [
      "34-->66-->67-->56-->None\n"
     ]
    }
   ],
   "source": [
    "ll.traverse(linkedlist)"
   ]
  },
  {
   "cell_type": "code",
   "execution_count": null,
   "id": "b64fb5e7-dc2c-4646-8cae-2c920cfd386e",
   "metadata": {},
   "outputs": [],
   "source": []
  }
 ],
 "metadata": {
  "kernelspec": {
   "display_name": "Python 3 (ipykernel)",
   "language": "python",
   "name": "python3"
  },
  "language_info": {
   "codemirror_mode": {
    "name": "ipython",
    "version": 3
   },
   "file_extension": ".py",
   "mimetype": "text/x-python",
   "name": "python",
   "nbconvert_exporter": "python",
   "pygments_lexer": "ipython3",
   "version": "3.12.5"
  }
 },
 "nbformat": 4,
 "nbformat_minor": 5
}
